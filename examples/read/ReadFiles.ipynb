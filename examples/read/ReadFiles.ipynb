{
 "cells": [
  {
   "cell_type": "code",
   "execution_count": 4,
   "id": "initial_id",
   "metadata": {
    "collapsed": true,
    "ExecuteTime": {
     "end_time": "2024-03-01T16:53:30.442275Z",
     "start_time": "2024-03-01T16:53:30.437392Z"
    }
   },
   "outputs": [],
   "source": [
    "from pyspark.sql import SparkSession\n",
    "from pyspark.sql.types import StructField, StructType, StringType, IntegerType, DateType"
   ]
  },
  {
   "cell_type": "code",
   "outputs": [
    {
     "name": "stderr",
     "output_type": "stream",
     "text": [
      "24/03/01 17:50:04 WARN Utils: Your hostname, MacBook-Pro-de-Mihai.local resolves to a loopback address: 127.0.0.1; using 192.168.18.250 instead (on interface en0)\n",
      "24/03/01 17:50:04 WARN Utils: Set SPARK_LOCAL_IP if you need to bind to another address\n",
      "Setting default log level to \"WARN\".\n",
      "To adjust logging level use sc.setLogLevel(newLevel). For SparkR, use setLogLevel(newLevel).\n",
      "24/03/01 17:50:04 WARN NativeCodeLoader: Unable to load native-hadoop library for your platform... using builtin-java classes where applicable\n"
     ]
    }
   ],
   "source": [
    "# Create SparkSession\n",
    "spark = (SparkSession\n",
    "         .builder\n",
    "         .master('local[*]')\n",
    "         .appName('ReadFiles')\n",
    "         .getOrCreate())"
   ],
   "metadata": {
    "collapsed": false,
    "ExecuteTime": {
     "end_time": "2024-03-01T16:50:05.434118Z",
     "start_time": "2024-03-01T16:50:02.536190Z"
    }
   },
   "id": "49723eb810501e3",
   "execution_count": 2
  },
  {
   "cell_type": "code",
   "outputs": [],
   "source": [
    "# Create a schema for the CSV file\n",
    "schema = StructType([StructField(\"TotalCost\", IntegerType(), nullable=True),\n",
    "                     StructField(\"BirthDate\", DateType(), nullable=True),\n",
    "                     StructField(\"Gender\", StringType(), nullable=True),\n",
    "                     StructField(\"TotalChildren\", IntegerType(), nullable=True),\n",
    "                     StructField(\"ProductCategoryName\", StringType(), nullable=True)])"
   ],
   "metadata": {
    "collapsed": false,
    "ExecuteTime": {
     "end_time": "2024-03-01T16:53:37.091522Z",
     "start_time": "2024-03-01T16:53:37.086127Z"
    }
   },
   "id": "1750af916d491b9c",
   "execution_count": 5
  },
  {
   "cell_type": "code",
   "outputs": [
    {
     "name": "stdout",
     "output_type": "stream",
     "text": [
      "+------+---+------+-----+-------------------+-----------+\n",
      "|  size|age|  team|  win|               date|       prob|\n",
      "+------+---+------+-----+-------------------+-----------+\n",
      "|   big| 33|yellow| true|2022-06-15 00:00:00|   0.487826|\n",
      "|medium| 15|yellow|false|2022-11-28 00:00:00|  0.5943772|\n",
      "|   big| 29|  blue| true|2022-10-10 00:00:00|0.008020305|\n",
      "|medium| 15| green| true|2022-10-02 00:00:00|  0.4362723|\n",
      "|   big|  1|  blue| true|2020-09-29 00:00:00|   0.327922|\n",
      "| small| 33|  blue| true|2020-05-23 00:00:00| 0.32705152|\n",
      "| small| 22|yellow| true|2020-11-01 00:00:00|  0.3758683|\n",
      "|   big| 39| green|false|2022-07-04 00:00:00|  0.5921349|\n",
      "|   big| 36|   red| true|2021-10-12 00:00:00| 0.18010604|\n",
      "| small| 15|  blue|false|2020-10-16 00:00:00|  0.5274084|\n",
      "| small| 21|   red| true|2020-05-03 00:00:00|  0.7999763|\n",
      "| small| 11|  blue| true|2020-11-14 00:00:00|  0.9940903|\n",
      "| small| 38|yellow| true|2020-10-27 00:00:00|  0.9335122|\n",
      "|medium| 38|yellow|false|2022-03-30 00:00:00| 0.42175278|\n",
      "| small|  5|yellow|false|2020-07-27 00:00:00|0.054734245|\n",
      "| small|  8| green|false|2020-02-03 00:00:00| 0.75090784|\n",
      "|   big| 34| green|false|2020-02-03 00:00:00| 0.41435403|\n",
      "|   big| 30| green|false|2022-07-21 00:00:00|   0.908754|\n",
      "| small|  7|   red|false|2020-05-16 00:00:00|     0.9593|\n",
      "|   big| 42|   red| true|2020-06-28 00:00:00| 0.52747804|\n",
      "+------+---+------+-----+-------------------+-----------+\n"
     ]
    }
   ],
   "source": [
    "spark.read.parquet('../data/csv/random/input.parquet').show()"
   ],
   "metadata": {
    "collapsed": false,
    "ExecuteTime": {
     "end_time": "2024-03-01T17:19:06.353128Z",
     "start_time": "2024-03-01T17:19:06.169193Z"
    }
   },
   "id": "a49b730bc467696a",
   "execution_count": 36
  },
  {
   "cell_type": "markdown",
   "source": [
    "### CSV files"
   ],
   "metadata": {
    "collapsed": false
   },
   "id": "c79606a87fdb5619"
  },
  {
   "cell_type": "code",
   "outputs": [],
   "source": [
    "# Read a CSV file specifying schema, that way Spark infer the schema by default if not set no False\n",
    "df = (spark.read\n",
    "      .option(\"header\", \"true\")\n",
    "      .option(\"delimiter\", \"|\")\n",
    "      .schema(schema)\n",
    "      .csv('../data/csv/stream.csv'))"
   ],
   "metadata": {
    "collapsed": false,
    "ExecuteTime": {
     "end_time": "2024-03-01T16:57:30.370020Z",
     "start_time": "2024-03-01T16:57:30.344726Z"
    }
   },
   "id": "7598fd5cc12c2470",
   "execution_count": 9
  },
  {
   "cell_type": "code",
   "outputs": [
    {
     "name": "stdout",
     "output_type": "stream",
     "text": [
      "root\n",
      " |-- TotalCost: integer (nullable = true)\n",
      " |-- BirthDate: date (nullable = true)\n",
      " |-- Gender: string (nullable = true)\n",
      " |-- TotalChildren: integer (nullable = true)\n",
      " |-- ProductCategoryName: string (nullable = true)\n"
     ]
    }
   ],
   "source": [
    "df.printSchema()"
   ],
   "metadata": {
    "collapsed": false,
    "ExecuteTime": {
     "end_time": "2024-03-01T16:57:32.518231Z",
     "start_time": "2024-03-01T16:57:32.512402Z"
    }
   },
   "id": "be755a957c7104c4",
   "execution_count": 10
  },
  {
   "cell_type": "code",
   "outputs": [
    {
     "name": "stdout",
     "output_type": "stream",
     "text": [
      "+---------+----------+------+-------------+-------------------+\n",
      "|TotalCost| BirthDate|Gender|TotalChildren|ProductCategoryName|\n",
      "+---------+----------+------+-------------+-------------------+\n",
      "|     1000|      null|  Male|            2|         Technology|\n",
      "|     2000|1957-03-06|  null|            3|             Beauty|\n",
      "+---------+----------+------+-------------+-------------------+\n"
     ]
    }
   ],
   "source": [
    "df.show(2)"
   ],
   "metadata": {
    "collapsed": false,
    "ExecuteTime": {
     "end_time": "2024-03-01T16:57:34.739785Z",
     "start_time": "2024-03-01T16:57:34.648320Z"
    }
   },
   "id": "90c89289195b00fa",
   "execution_count": 11
  },
  {
   "cell_type": "code",
   "outputs": [],
   "source": [
    "# If schema is not specified, spark read all cols as string by default\n",
    "df = (spark.read\n",
    "      .option(\"header\", \"true\")\n",
    "      .option(\"delimiter\", \"|\")\n",
    "      # .option(\"inferSchema\", \"true\") # That option can be given to Spark to infer schema. Better way is to define a schema, this can be  wrong sometimes\n",
    "      .csv('../data/csv/stream.csv'))"
   ],
   "metadata": {
    "collapsed": false,
    "ExecuteTime": {
     "end_time": "2024-03-01T16:59:22.478082Z",
     "start_time": "2024-03-01T16:59:22.381251Z"
    }
   },
   "id": "2e10e9c482cbf23e",
   "execution_count": 17
  },
  {
   "cell_type": "code",
   "outputs": [
    {
     "name": "stdout",
     "output_type": "stream",
     "text": [
      "+---------+----------+------+-------------+-------------------+\n",
      "|TotalCost| BirthDate|Gender|TotalChildren|ProductCategoryName|\n",
      "+---------+----------+------+-------------+-------------------+\n",
      "|     1000|      null|  Male|            2|         Technology|\n",
      "|     2000|1957-03-06|  null|            3|             Beauty|\n",
      "+---------+----------+------+-------------+-------------------+\n"
     ]
    }
   ],
   "source": [
    "# Options ca be also be specified by dict:\n",
    "options = {'header': 'true', 'delimiter': '|'}\n",
    "spark.read.options(**options).csv('../data/csv/stream.csv').show(2)"
   ],
   "metadata": {
    "collapsed": false,
    "ExecuteTime": {
     "end_time": "2024-03-01T17:14:42.788758Z",
     "start_time": "2024-03-01T17:14:42.669785Z"
    }
   },
   "id": "519fd3db4ed7e437",
   "execution_count": 34
  },
  {
   "cell_type": "code",
   "outputs": [
    {
     "name": "stdout",
     "output_type": "stream",
     "text": [
      "root\n",
      " |-- TotalCost: string (nullable = true)\n",
      " |-- BirthDate: string (nullable = true)\n",
      " |-- Gender: string (nullable = true)\n",
      " |-- TotalChildren: string (nullable = true)\n",
      " |-- ProductCategoryName: string (nullable = true)\n"
     ]
    }
   ],
   "source": [
    "df.printSchema()"
   ],
   "metadata": {
    "collapsed": false,
    "ExecuteTime": {
     "end_time": "2024-03-01T16:59:23.326175Z",
     "start_time": "2024-03-01T16:59:23.320007Z"
    }
   },
   "id": "fa50f9817cac0f75",
   "execution_count": 18
  },
  {
   "cell_type": "code",
   "outputs": [
    {
     "name": "stdout",
     "output_type": "stream",
     "text": [
      "+---------+----------+------+-------------+-------------------+\n",
      "|TotalCost| BirthDate|Gender|TotalChildren|ProductCategoryName|\n",
      "+---------+----------+------+-------------+-------------------+\n",
      "|     1000|      null|  Male|            2|         Technology|\n",
      "|     2000|1957-03-06|  null|            3|             Beauty|\n",
      "+---------+----------+------+-------------+-------------------+\n"
     ]
    }
   ],
   "source": [
    "df.show(2)"
   ],
   "metadata": {
    "collapsed": false,
    "ExecuteTime": {
     "end_time": "2024-03-01T16:59:26.542607Z",
     "start_time": "2024-03-01T16:59:26.499324Z"
    }
   },
   "id": "e2232825396319e5",
   "execution_count": 20
  },
  {
   "cell_type": "markdown",
   "source": [
    "### JSON files"
   ],
   "metadata": {
    "collapsed": false
   },
   "id": "a96a2a7ec5f35c76"
  },
  {
   "cell_type": "code",
   "outputs": [],
   "source": [
    "# Read simple JSON\n",
    "df = (spark.read\n",
    "      .json('../data/json/zipcodes.json')) # Read one json per line"
   ],
   "metadata": {
    "collapsed": false,
    "ExecuteTime": {
     "end_time": "2024-03-01T17:05:57.932580Z",
     "start_time": "2024-03-01T17:05:57.868310Z"
    }
   },
   "id": "1dd541d4227d8ac9",
   "execution_count": 28
  },
  {
   "cell_type": "code",
   "outputs": [
    {
     "name": "stdout",
     "output_type": "stream",
     "text": [
      "root\n",
      " |-- City: string (nullable = true)\n",
      " |-- Country: string (nullable = true)\n",
      " |-- Decommisioned: boolean (nullable = true)\n",
      " |-- EstimatedPopulation: long (nullable = true)\n",
      " |-- Lat: double (nullable = true)\n",
      " |-- Location: string (nullable = true)\n",
      " |-- LocationText: string (nullable = true)\n",
      " |-- LocationType: string (nullable = true)\n",
      " |-- Long: double (nullable = true)\n",
      " |-- Notes: string (nullable = true)\n",
      " |-- RecordNumber: long (nullable = true)\n",
      " |-- State: string (nullable = true)\n",
      " |-- TaxReturnsFiled: long (nullable = true)\n",
      " |-- TotalWages: long (nullable = true)\n",
      " |-- WorldRegion: string (nullable = true)\n",
      " |-- Xaxis: double (nullable = true)\n",
      " |-- Yaxis: double (nullable = true)\n",
      " |-- Zaxis: double (nullable = true)\n",
      " |-- ZipCodeType: string (nullable = true)\n",
      " |-- Zipcode: long (nullable = true)\n"
     ]
    }
   ],
   "source": [
    "df.printSchema()"
   ],
   "metadata": {
    "collapsed": false,
    "ExecuteTime": {
     "end_time": "2024-03-01T17:06:04.655516Z",
     "start_time": "2024-03-01T17:06:04.648597Z"
    }
   },
   "id": "433b56a58f5be74d",
   "execution_count": 29
  },
  {
   "cell_type": "code",
   "outputs": [
    {
     "name": "stdout",
     "output_type": "stream",
     "text": [
      "+-------------------+-------+-------------+-------------------+-----+--------------------+--------------------+--------------+------+-----+------------+-----+---------------+----------+-----------+-----+-----+-----+-----------+-------+\n",
      "|               City|Country|Decommisioned|EstimatedPopulation|  Lat|            Location|        LocationText|  LocationType|  Long|Notes|RecordNumber|State|TaxReturnsFiled|TotalWages|WorldRegion|Xaxis|Yaxis|Zaxis|ZipCodeType|Zipcode|\n",
      "+-------------------+-------+-------------+-------------------+-----+--------------------+--------------------+--------------+------+-----+------------+-----+---------------+----------+-----------+-----+-----+-----+-----------+-------+\n",
      "|        PARC PARQUE|     US|        false|               null|17.96|NA-US-PR-PARC PARQUE|     Parc Parque, PR|NOT ACCEPTABLE|-66.22| null|           1|   PR|           null|      null|         NA| 0.38|-0.87|  0.3|   STANDARD|    704|\n",
      "|PASEO COSTA DEL SUR|     US|        false|               null|17.96|NA-US-PR-PASEO CO...|Paseo Costa Del S...|NOT ACCEPTABLE|-66.22| null|           2|   PR|           null|      null|         NA| 0.38|-0.87|  0.3|   STANDARD|    704|\n",
      "+-------------------+-------+-------------+-------------------+-----+--------------------+--------------------+--------------+------+-----+------------+-----+---------------+----------+-----------+-----+-----+-----+-----------+-------+\n"
     ]
    }
   ],
   "source": [
    "df.show(2)"
   ],
   "metadata": {
    "collapsed": false,
    "ExecuteTime": {
     "end_time": "2024-03-01T17:06:18.046608Z",
     "start_time": "2024-03-01T17:06:17.929142Z"
    }
   },
   "id": "f4ac43d803ac1584",
   "execution_count": 30
  },
  {
   "cell_type": "code",
   "outputs": [],
   "source": [
    "df = (spark.read\n",
    "      .option('multiline', value=True) # This way can read a array of json of type [{...},...,{...}]\n",
    "      .json('../data/json/multiline-zipcode.json'))\n",
    "# JSON also can be read with a specific schema ading option: .schema(schema = json_schema)"
   ],
   "metadata": {
    "collapsed": false,
    "ExecuteTime": {
     "end_time": "2024-03-01T17:04:27.881054Z",
     "start_time": "2024-03-01T17:04:27.836918Z"
    }
   },
   "id": "fb2624eaeddb61f8",
   "execution_count": 24
  },
  {
   "cell_type": "code",
   "outputs": [
    {
     "name": "stdout",
     "output_type": "stream",
     "text": [
      "root\n",
      " |-- City: string (nullable = true)\n",
      " |-- RecordNumber: long (nullable = true)\n",
      " |-- State: string (nullable = true)\n",
      " |-- ZipCodeType: string (nullable = true)\n",
      " |-- Zipcode: long (nullable = true)\n"
     ]
    }
   ],
   "source": [
    "df.printSchema()"
   ],
   "metadata": {
    "collapsed": false,
    "ExecuteTime": {
     "end_time": "2024-03-01T17:04:28.181406Z",
     "start_time": "2024-03-01T17:04:28.176169Z"
    }
   },
   "id": "74599a4b5913a341",
   "execution_count": 25
  },
  {
   "cell_type": "code",
   "outputs": [
    {
     "name": "stdout",
     "output_type": "stream",
     "text": [
      "+-------------------+------------+-----+-----------+-------+\n",
      "|               City|RecordNumber|State|ZipCodeType|Zipcode|\n",
      "+-------------------+------------+-----+-----------+-------+\n",
      "|PASEO COSTA DEL SUR|           2|   PR|   STANDARD|    704|\n",
      "|       BDA SAN LUIS|          10|   PR|   STANDARD|    709|\n",
      "+-------------------+------------+-----+-----------+-------+\n"
     ]
    }
   ],
   "source": [
    "df.show(2)"
   ],
   "metadata": {
    "collapsed": false,
    "ExecuteTime": {
     "end_time": "2024-03-01T17:04:29.151704Z",
     "start_time": "2024-03-01T17:04:29.080150Z"
    }
   },
   "id": "7b4c47d8469c4e33",
   "execution_count": 26
  }
 ],
 "metadata": {
  "kernelspec": {
   "display_name": "Python 3",
   "language": "python",
   "name": "python3"
  },
  "language_info": {
   "codemirror_mode": {
    "name": "ipython",
    "version": 2
   },
   "file_extension": ".py",
   "mimetype": "text/x-python",
   "name": "python",
   "nbconvert_exporter": "python",
   "pygments_lexer": "ipython2",
   "version": "2.7.6"
  }
 },
 "nbformat": 4,
 "nbformat_minor": 5
}
